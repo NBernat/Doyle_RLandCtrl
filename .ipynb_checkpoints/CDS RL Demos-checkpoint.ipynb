{
 "cells": [
  {
   "cell_type": "markdown",
   "metadata": {},
   "source": [
    "# CDS-RL Demos\n",
    "A place to experiment with RL techniques on various systems that are well-understood by CDS\n",
    "\n",
    "Note: set up a conda environment according to setup_instructions.txt "
   ]
  },
  {
   "cell_type": "code",
   "execution_count": null,
   "metadata": {
    "scrolled": true
   },
   "outputs": [],
   "source": [
    "import matplotlib\n",
    "%matplotlib notebook\n",
    "\n",
    "# Setup outputs\n",
    "output_dir = '/Users/nataliebernat/Documents/Github/Research/Doyle_RLandCtrl/RL_outputs'\n",
    "fig_dir = output_dir+'/figures/'\n"
   ]
  },
  {
   "cell_type": "markdown",
   "metadata": {},
   "source": [
    "## Sanity check: Spinningup"
   ]
  },
  {
   "cell_type": "markdown",
   "metadata": {},
   "source": [
    "Setup"
   ]
  },
  {
   "cell_type": "code",
   "execution_count": null,
   "metadata": {
    "scrolled": true
   },
   "outputs": [],
   "source": [
    "from spinup import ppo, vpg\n",
    "from spinup.utils import plot\n",
    "import tensorflow as tf\n",
    "import gym\n",
    "import matplotlib.pyplot as plt\n",
    "\n",
    "import matplotlib\n",
    "%matplotlib notebook\n",
    "\n",
    "# Setup outputs\n",
    "output_dir = '/Users/nataliebernat/Documents/Github/Research/Doyle_RLandCtrl/RL_outputs'\n",
    "fig_dir = output_dir+'/figures/'"
   ]
  },
  {
   "cell_type": "code",
   "execution_count": null,
   "metadata": {
    "scrolled": true
   },
   "outputs": [],
   "source": [
    "env_fn = lambda : gym.make('LunarLander-v2')\n",
    "ac_kwargs = dict(hidden_sizes=[64,64], activation=tf.nn.relu)\n",
    "num_steps_per_epoch=5000\n",
    "num_epochs = 100 #(this will take like 5-10min per experiment)"
   ]
  },
  {
   "cell_type": "markdown",
   "metadata": {},
   "source": [
    "Run each exp (saves outputs automatically)"
   ]
  },
  {
   "cell_type": "code",
   "execution_count": null,
   "metadata": {
    "scrolled": true
   },
   "outputs": [],
   "source": [
    "exp_name = 'vpg_test'\n",
    "logger_kwargs = dict(output_dir=output_dir+'/spinup_tests/'+exp_name+'/', exp_name=exp_name)\n",
    "vpg(env_fn=env_fn, steps_per_epoch=num_steps_per_epoch, epochs=num_epochs, logger_kwargs=logger_kwargs)"
   ]
  },
  {
   "cell_type": "code",
   "execution_count": null,
   "metadata": {
    "scrolled": true
   },
   "outputs": [],
   "source": [
    "exp_name = 'ppo_test'\n",
    "\n",
    "tf.reset_default_graph()\n",
    "logger_kwargs = dict(output_dir=output_dir+'/spinup_tests/'+exp_name+'/', exp_name=exp_name)\n",
    "ppo(env_fn=env_fn, ac_kwargs=ac_kwargs, steps_per_epoch=num_steps_per_epoch, epochs=num_epochs, logger_kwargs=logger_kwargs)"
   ]
  },
  {
   "cell_type": "markdown",
   "metadata": {},
   "source": [
    "Plot the learning curves (Sometimes this crashes the kernel, but the data is saved to disk so just try this again)"
   ]
  },
  {
   "cell_type": "code",
   "execution_count": null,
   "metadata": {
    "scrolled": true
   },
   "outputs": [],
   "source": [
    "#plot_data(data, xaxis='Epoch', value=\"AverageEpRet\", condition=\"Condition1\", smooth=1, **kwargs)\n",
    "data = plot.get_all_datasets([output_dir+'/spinup_tests'], None, None, None)\n",
    "plt.figure()\n",
    "plot.plot_data(data)"
   ]
  },
  {
   "cell_type": "code",
   "execution_count": null,
   "metadata": {
    "scrolled": true
   },
   "outputs": [],
   "source": []
  },
  {
   "cell_type": "markdown",
   "metadata": {},
   "source": [
    "## Sanity Check: Stable-Baselines"
   ]
  },
  {
   "cell_type": "markdown",
   "metadata": {},
   "source": [
    "Learn policy for cartpole; learning displays; render videos"
   ]
  },
  {
   "cell_type": "code",
   "execution_count": null,
   "metadata": {
    "scrolled": true
   },
   "outputs": [],
   "source": [
    "import gym\n",
    "from IPython import display\n",
    "import matplotlib\n",
    "import matplotlib.pyplot as plt\n",
    "\n",
    "from stable_baselines.common.policies import MlpPolicy\n",
    "from stable_baselines.common.vec_env import DummyVecEnv\n",
    "from stable_baselines import PPO2\n",
    "\n",
    "import matplotlib\n",
    "%matplotlib notebook\n",
    "\n",
    "# Setup outputs\n",
    "output_dir = '/Users/nataliebernat/Documents/Github/Research/Doyle_RLandCtrl/RL_outputs'\n",
    "fig_dir = output_dir+'/figures/'"
   ]
  },
  {
   "cell_type": "code",
   "execution_count": null,
   "metadata": {
    "scrolled": true
   },
   "outputs": [],
   "source": [
    "env = gym.make('CartPole-v1')\n",
    "env = DummyVecEnv([lambda: env])  # The algorithms require a vectorized environment to run\n",
    "\n",
    "model = PPO2(MlpPolicy, env, verbose=1)"
   ]
  },
  {
   "cell_type": "code",
   "execution_count": null,
   "metadata": {
    "scrolled": true
   },
   "outputs": [],
   "source": [
    "model.learn(total_timesteps=100)"
   ]
  },
  {
   "cell_type": "code",
   "execution_count": null,
   "metadata": {
    "scrolled": true
   },
   "outputs": [],
   "source": [
    "# NOTE: This is very slow.... Eventually make a wrapper for this, and just generate a video and then play the video\n",
    "\n",
    "obs = env.reset()\n",
    "img = plt.imshow(env.render(mode='rgb_array')) # only call this once\n",
    "for i in range(1000):\n",
    "    img.set_data(env.render(mode='rgb_array')) # just update the data\n",
    "    display.display(plt.gcf())\n",
    "    display.clear_output(wait=True)\n",
    "    action, _states = model.predict(obs)\n",
    "    obs, rewards, dones, info = env.step(action)\n",
    "    "
   ]
  },
  {
   "cell_type": "code",
   "execution_count": null,
   "metadata": {
    "scrolled": true
   },
   "outputs": [],
   "source": []
  },
  {
   "cell_type": "markdown",
   "metadata": {},
   "source": []
  },
  {
   "cell_type": "code",
   "execution_count": null,
   "metadata": {
    "scrolled": true
   },
   "outputs": [],
   "source": []
  },
  {
   "cell_type": "code",
   "execution_count": null,
   "metadata": {
    "scrolled": true
   },
   "outputs": [],
   "source": []
  },
  {
   "cell_type": "markdown",
   "metadata": {},
   "source": [
    "## YPL experiments"
   ]
  },
  {
   "cell_type": "code",
   "execution_count": null,
   "metadata": {
    "scrolled": true
   },
   "outputs": [],
   "source": []
  },
  {
   "cell_type": "code",
   "execution_count": null,
   "metadata": {
    "scrolled": true
   },
   "outputs": [],
   "source": []
  },
  {
   "cell_type": "markdown",
   "metadata": {},
   "source": [
    "## Modified Cartpole SysID experiments"
   ]
  },
  {
   "cell_type": "code",
   "execution_count": null,
   "metadata": {
    "scrolled": true
   },
   "outputs": [],
   "source": []
  },
  {
   "cell_type": "code",
   "execution_count": null,
   "metadata": {
    "scrolled": true
   },
   "outputs": [],
   "source": []
  },
  {
   "cell_type": "code",
   "execution_count": null,
   "metadata": {
    "scrolled": true
   },
   "outputs": [],
   "source": []
  },
  {
   "cell_type": "code",
   "execution_count": null,
   "metadata": {
    "scrolled": true
   },
   "outputs": [],
   "source": []
  },
  {
   "cell_type": "markdown",
   "metadata": {},
   "source": [
    "## CDS Alpha initial experiments"
   ]
  },
  {
   "cell_type": "code",
   "execution_count": null,
   "metadata": {
    "scrolled": true
   },
   "outputs": [],
   "source": [
    "from spinup import ppo, vpg\n",
    "from spinup.utils import plot\n",
    "import tensorflow as tf\n",
    "import gym\n",
    "import matplotlib.pyplot as plt\n",
    "\n",
    "import matplotlib\n",
    "%matplotlib notebook\n",
    "\n",
    "# Setup outputs\n",
    "output_dir = '/Users/nataliebernat/Documents/Github/Research/Doyle_RLandCtrl/RL_outputs'\n",
    "fig_dir = output_dir+'/figures/'"
   ]
  },
  {
   "cell_type": "code",
   "execution_count": null,
   "metadata": {
    "scrolled": true
   },
   "outputs": [],
   "source": [
    "import gym_cdsalpha"
   ]
  },
  {
   "cell_type": "code",
   "execution_count": null,
   "metadata": {
    "scrolled": true
   },
   "outputs": [],
   "source": [
    "env_fn = lambda : gym.make('cdsalpha-v0')\n",
    "ac_kwargs = dict(hidden_sizes=[64,64], activation=tf.nn.relu)\n",
    "num_steps_per_epoch=5000\n",
    "num_epochs = 100 #(this will take like 5-10min per experiment)"
   ]
  },
  {
   "cell_type": "markdown",
   "metadata": {},
   "source": [
    "Run each exp (saves outputs automatically)"
   ]
  },
  {
   "cell_type": "code",
   "execution_count": null,
   "metadata": {
    "scrolled": true
   },
   "outputs": [],
   "source": [
    "exp_name = 'cdsalpha0_vpg_test'\n",
    "tf.reset_default_graph()\n",
    "logger_kwargs = dict(output_dir=output_dir+'/env_tests/'+exp_name+'/', exp_name=exp_name)\n",
    "vpg(env_fn=env_fn, steps_per_epoch=num_steps_per_epoch, epochs=num_epochs, logger_kwargs=logger_kwargs)"
   ]
  },
  {
   "cell_type": "code",
   "execution_count": null,
   "metadata": {
    "scrolled": true
   },
   "outputs": [],
   "source": [
    "exp_name = 'cdsalpha0_ppo_test'\n",
    "tf.reset_default_graph()\n",
    "logger_kwargs = dict(output_dir=output_dir+'/env_tests/'+exp_name+'/', exp_name=exp_name)\n",
    "ppo(env_fn=env_fn, ac_kwargs=ac_kwargs, steps_per_epoch=num_steps_per_epoch, epochs=num_epochs, logger_kwargs=logger_kwargs)"
   ]
  },
  {
   "cell_type": "markdown",
   "metadata": {},
   "source": [
    "Plot the learning curves (Sometimes this crashes the kernel, but the data is saved to disk so just try this again)"
   ]
  },
  {
   "cell_type": "code",
   "execution_count": null,
   "metadata": {
    "scrolled": true
   },
   "outputs": [],
   "source": [
    "#plot_data(data, xaxis='Epoch', value=\"AverageEpRet\", condition=\"Condition1\", smooth=1, **kwargs)\n",
    "data = plot.get_all_datasets([output_dir+'/env_tests/cdsalpha0_'], None, None, None)\n",
    "plt.figure()\n",
    "plot.plot_data(data)\n",
    "#plt.savefig(fig_dir+'/env_tests/cdsalpha0_')"
   ]
  },
  {
   "cell_type": "code",
   "execution_count": null,
   "metadata": {
    "scrolled": true
   },
   "outputs": [],
   "source": [
    "import numpy as np\n",
    "testenv = gym.make('cdsalpha-v0')\n",
    "testenv.reset()\n",
    "print (testenv.state)\n",
    "u=2.5\n",
    "print (np.matmul(testenv.A,testenv.state))\n",
    "testenv.B = np.array([1,1])\n",
    "print (u*testenv.B )\n",
    "print (np.matmul(testenv.A,testenv.state) + u*testenv.B )\n",
    "\n",
    "x1 = testenv.state[0]\n",
    "x2 = testenv.state[1]\n",
    "print (x1)\n",
    "print (x2)"
   ]
  },
  {
   "cell_type": "code",
   "execution_count": null,
   "metadata": {
    "scrolled": true
   },
   "outputs": [],
   "source": []
  },
  {
   "cell_type": "code",
   "execution_count": null,
   "metadata": {},
   "outputs": [],
   "source": []
  },
  {
   "cell_type": "code",
   "execution_count": null,
   "metadata": {},
   "outputs": [],
   "source": []
  },
  {
   "cell_type": "code",
   "execution_count": null,
   "metadata": {},
   "outputs": [],
   "source": []
  },
  {
   "cell_type": "markdown",
   "metadata": {},
   "source": [
    "## CDS Alpha experiments"
   ]
  },
  {
   "cell_type": "markdown",
   "metadata": {},
   "source": [
    "### Single expt"
   ]
  },
  {
   "cell_type": "code",
   "execution_count": null,
   "metadata": {
    "scrolled": true
   },
   "outputs": [],
   "source": [
    "from spinup import ppo, vpg\n",
    "from spinup.utils import plot\n",
    "import tensorflow as tf\n",
    "import gym\n",
    "import gym_cdsalpha\n",
    "import matplotlib.pyplot as plt\n",
    "\n",
    "import matplotlib\n",
    "%matplotlib notebook\n",
    "\n",
    "# Setup outputs\n",
    "output_dir = '/Users/nataliebernat/Documents/Github/Research/Doyle_RLandCtrl/RL_outputs'\n",
    "fig_dir = output_dir+'/figures/'"
   ]
  },
  {
   "cell_type": "code",
   "execution_count": null,
   "metadata": {
    "scrolled": true
   },
   "outputs": [],
   "source": [
    "num_steps_per_epoch=5000\n",
    "num_epochs = 100 #(this will take like 5-10min per experiment, but seems like enough to see whether it learns or not)\n",
    "\n",
    "#env_kwargs = dict(a=0.1)\n",
    "alpha = 0.0\n",
    "env_fn = lambda : gym.make('cdsalpha-v0', a=alpha)\n",
    "\n",
    "exp_name = 'cdsalpha'+str(alpha).replace('.','pt')+'_vpg_test'\n",
    "tf.reset_default_graph()\n",
    "logger_kwargs = dict(output_dir=output_dir+'/env_tests/'+exp_name+'/', exp_name=exp_name)\n",
    "vpg(env_fn=env_fn, steps_per_epoch=num_steps_per_epoch, epochs=num_epochs, logger_kwargs=logger_kwargs)\n",
    "\n",
    "\n",
    "exp_name = 'cdsalpha'+str(alpha).replace('.','pt')+'_ppo_test'\n",
    "tf.reset_default_graph()\n",
    "logger_kwargs = dict(output_dir=output_dir+'/env_tests/'+exp_name+'/', exp_name=exp_name)\n",
    "ppo(env_fn=env_fn, steps_per_epoch=num_steps_per_epoch, epochs=num_epochs, logger_kwargs=logger_kwargs)"
   ]
  },
  {
   "cell_type": "markdown",
   "metadata": {},
   "source": [
    "Plot the learning curves (Sometimes this crashes the kernel, but the data is saved to disk so just try this again)"
   ]
  },
  {
   "cell_type": "code",
   "execution_count": null,
   "metadata": {
    "scrolled": true
   },
   "outputs": [],
   "source": [
    "#plot_data(data, xaxis='Epoch', value=\"AverageEpRet\", condition=\"Condition1\", smooth=1, **kwargs)\n",
    "data = plot.get_all_datasets([output_dir+'/env_tests/cdsalpha0pt0'], None, None, None)\n",
    "plt.figure()\n",
    "plot.plot_data(data)\n",
    "#plt.savefig(fig_dir+'/env_tests/cdsalpha0pt0')\n"
   ]
  },
  {
   "cell_type": "markdown",
   "metadata": {},
   "source": [
    "### Large batch of seeded expts"
   ]
  },
  {
   "cell_type": "code",
   "execution_count": null,
   "metadata": {},
   "outputs": [],
   "source": [
    "import numpy as np\n",
    "from spinup import ppo, vpg\n",
    "from spinup.utils import plot\n",
    "import tensorflow as tf\n",
    "import gym\n",
    "import gym_cdsalpha\n",
    "import matplotlib.pyplot as plt\n",
    "\n",
    "import matplotlib\n",
    "%matplotlib notebook\n",
    "\n",
    "# Setup outputs\n",
    "output_dir = '/Users/nataliebernat/Documents/Github/Research/Doyle_RLandCtrl/RL_outputs'\n",
    "fig_dir = output_dir+'/figures/'\n",
    "\n",
    "seed = 1\n"
   ]
  },
  {
   "cell_type": "code",
   "execution_count": null,
   "metadata": {
    "scrolled": true
   },
   "outputs": [],
   "source": [
    "num_steps_per_epoch=5000\n",
    "num_epochs = 100 #(this will take like 5-10min per experiment)\n",
    "\n",
    "for alpha in np.arange(0.0, 1.01, 0.1):#np.arange(0.1, 1.01, 0.1):\n",
    "    env_fn = lambda : gym.make('cdsalpha-v0', a=alpha, seed=seed)\n",
    "\n",
    "    exp_out_dir = '{0}/env_tests/seed{1}/'.format(output_dir,seed)\n",
    "    \n",
    "    exp_name = 'cdsalpha{0:.1f}_vpg_test'.format(alpha).replace('.','pt')\n",
    "    tf.reset_default_graph()\n",
    "    logger_kwargs = dict(output_dir=exp_out_dir+exp_name+'/', exp_name=exp_name)\n",
    "    vpg(env_fn=env_fn, steps_per_epoch=num_steps_per_epoch, epochs=num_epochs, logger_kwargs=logger_kwargs)\n",
    "\n",
    "\n",
    "    exp_name = 'cdsalpha{0:.1f}_ppo_test'.format(alpha).replace('.','pt')\n",
    "    tf.reset_default_graph()\n",
    "    logger_kwargs = dict(output_dir=exp_out_dir+exp_name+'/', exp_name=exp_name)\n",
    "    ppo(env_fn=env_fn, steps_per_epoch=num_steps_per_epoch, epochs=num_epochs, logger_kwargs=logger_kwargs)"
   ]
  },
  {
   "cell_type": "code",
   "execution_count": null,
   "metadata": {},
   "outputs": [],
   "source": [
    "#plot_data(data, xaxis='Epoch', value=\"AverageEpRet\", condition=\"Condition1\", smooth=1, **kwargs)\n",
    "for alpha in np.arange(0.0, 1.01, 0.1):\n",
    "    exp_out_dir = '{0}/env_tests/seed{1}/'.format(output_dir,seed)\n",
    "    exp_fig_dir = '{0}/env_tests/seed{1}/'.format(fig_dir,seed)\n",
    "    test_name = 'cdsalpha{0:.1f}'.format(alpha).replace('.','pt')\n",
    "    data = plot.get_all_datasets([exp_out_dir+test_name], None, None, None)\n",
    "    plt.figure()\n",
    "    plt.title(test_name)\n",
    "    plot.plot_data(data)\n",
    "    plt.savefig(exp_fig_dir+test_name)"
   ]
  },
  {
   "cell_type": "code",
   "execution_count": null,
   "metadata": {},
   "outputs": [],
   "source": []
  },
  {
   "cell_type": "code",
   "execution_count": null,
   "metadata": {},
   "outputs": [],
   "source": [
    "import numpy as np\n",
    "mu=0\n",
    "sigma=0\n",
    "np.random.normal(mu, sigma, 2)"
   ]
  },
  {
   "cell_type": "code",
   "execution_count": null,
   "metadata": {},
   "outputs": [],
   "source": [
    "\n"
   ]
  },
  {
   "cell_type": "code",
   "execution_count": null,
   "metadata": {},
   "outputs": [],
   "source": []
  },
  {
   "cell_type": "code",
   "execution_count": null,
   "metadata": {},
   "outputs": [],
   "source": []
  },
  {
   "cell_type": "markdown",
   "metadata": {},
   "source": [
    "### Large batch of seeded expts w/ white noise"
   ]
  },
  {
   "cell_type": "code",
   "execution_count": 2,
   "metadata": {},
   "outputs": [],
   "source": [
    "import numpy as np\n",
    "from spinup import ppo, vpg\n",
    "from spinup.utils import plot\n",
    "import tensorflow as tf\n",
    "import gym\n",
    "import gym_cdsalpha\n",
    "import matplotlib.pyplot as plt\n",
    "\n",
    "import matplotlib\n",
    "%matplotlib notebook\n",
    "\n",
    "# Setup inputs\n",
    "seed = 1\n",
    "sigma = 0.2\n",
    "num_steps_per_epoch=5000\n",
    "num_epochs = 100 #(this will take like 5-10min per experiment, longer when it performs poorly)\n",
    "\n",
    "if seed==None:\n",
    "    seed_str = 'unseeded'\n",
    "else:\n",
    "    seed_str = 'seed{0}'.format(seed)\n",
    "\n",
    "if sigma==0:\n",
    "    noise_str = 'nonoise'\n",
    "else:\n",
    "    noise_str = 'whitenoise{0:.1f}'.format(sigma).replace('.','pt')\n",
    "\n",
    "# Setup outputs\n",
    "out_dir = '/Users/nataliebernat/Documents/Github/Research/Doyle_RLandCtrl/RL_outputs'\n",
    "fig_dir = out_dir+'/figures'\n",
    "exp_out_dir = '{0}/cdsalpha_tests/{1}/{2}/'.format(out_dir,noise_str,seed_str).replace('.','pt')\n",
    "exp_fig_dir = '{0}/cdsalpha_tests/{1}/{2}/'.format(fig_dir,noise_str,seed_str).replace('.','pt')\n",
    "\n",
    "import os\n",
    "if not os.path.exists(exp_fig_dir):\n",
    "    os.makedirs(exp_fig_dir)\n",
    "    \n"
   ]
  },
  {
   "cell_type": "code",
   "execution_count": null,
   "metadata": {
    "scrolled": false
   },
   "outputs": [],
   "source": [
    "alphas = [2.0, 8.0, 32.0, 128.0] #[2.0, 4.0, 8.0, 16.0, 32.0, 64.0, 128.0]\n",
    "for alpha in alphas:#np.arange(0.0, 1.01, 0.1):\n",
    "    env_fn = lambda : gym.make('cdsalpha-v0', a=alpha, sigma=sigma, seed=seed)\n",
    "\n",
    "    exp_name = 'cdsalpha{0:.1f}_vpg_test'.format(alpha).replace('.','pt')\n",
    "    tf.reset_default_graph()\n",
    "    logger_kwargs = dict(output_dir=exp_out_dir+exp_name+'/', exp_name=exp_name)\n",
    "    vpg(env_fn=env_fn, steps_per_epoch=num_steps_per_epoch, epochs=num_epochs, logger_kwargs=logger_kwargs)\n",
    "\n",
    "    exp_name = 'cdsalpha{0:.1f}_ppo_test'.format(alpha).replace('.','pt')\n",
    "    tf.reset_default_graph()\n",
    "    logger_kwargs = dict(output_dir=exp_out_dir+exp_name+'/', exp_name=exp_name)\n",
    "    ppo(env_fn=env_fn, steps_per_epoch=num_steps_per_epoch, epochs=num_epochs, logger_kwargs=logger_kwargs)"
   ]
  },
  {
   "cell_type": "code",
   "execution_count": 9,
   "metadata": {},
   "outputs": [
    {
     "name": "stdout",
     "output_type": "stream",
     "text": [
      "Plotting from...\n",
      "==================================================\n",
      "\n",
      "/Users/nataliebernat/Documents/Github/Research/Doyle_RLandCtrl/RL_outputs/cdsalpha_tests/nonoise/seed1/cdsalpha0pt0_ppo_test\n",
      "/Users/nataliebernat/Documents/Github/Research/Doyle_RLandCtrl/RL_outputs/cdsalpha_tests/nonoise/seed1/cdsalpha0pt0_vpg_test\n",
      "\n",
      "==================================================\n"
     ]
    },
    {
     "data": {
      "image/png": "[encoded data removed]",
      "text/plain": [
       "<Figure size 432x288 with 1 Axes>"
      ]
     },
     "metadata": {},
     "output_type": "display_data"
    }
   ],
   "source": [
    "#plot_data(data, xaxis='Epoch', value=\"AverageEpRet\", condition=\"Condition1\", smooth=1, **kwargs)\n",
    "\n",
    "seed = 1\n",
    "sigma = 0\n",
    "num_steps_per_epoch=5000\n",
    "num_epochs = 100 #(this will take like 5-10min per experiment, longer when it performs poorly)\n",
    "\n",
    "if seed==None:\n",
    "    seed_str = 'unseeded'\n",
    "else:\n",
    "    seed_str = 'seed{0}'.format(seed)\n",
    "\n",
    "if sigma==0:\n",
    "    noise_str = 'nonoise'\n",
    "else:\n",
    "    noise_str = 'whitenoise{0:.1f}'.format(sigma).replace('.','pt')\n",
    "\n",
    "# Setup outputs\n",
    "out_dir = '/Users/nataliebernat/Documents/Github/Research/Doyle_RLandCtrl/RL_outputs'\n",
    "fig_dir = out_dir+'/figures'\n",
    "exp_out_dir = '{0}/cdsalpha_tests/{1}/{2}/'.format(out_dir,noise_str,seed_str).replace('.','pt')\n",
    "exp_fig_dir = '{0}/cdsalpha_tests/{1}/{2}/'.format(fig_dir,noise_str,seed_str).replace('.','pt')\n",
    "\n",
    "alphas = [0.0] #[2.0, 4.0, 8.0, 16.0, 32.0, 64.0, 128.0]\n",
    "for alpha in alphas:#np.arange(0.0, 1.01, 0.1):#\n",
    "    test_name = 'cdsalpha{0:.1f}'.format(alpha).replace('.','pt')\n",
    "    data = plot.get_all_datasets([exp_out_dir+test_name], None, None, None)\n",
    "    plt.figure()\n",
    "    plt.title('{0},{1}'.format(test_name,noise_str))\n",
    "    plot.plot_data(data)\n",
    "    plt.ylim((-100000, 0)) #bottom, top\n",
    "    plt.savefig(exp_fig_dir+test_name+'_closeup')"
   ]
  },
  {
   "cell_type": "code",
   "execution_count": null,
   "metadata": {},
   "outputs": [],
   "source": []
  },
  {
   "cell_type": "code",
   "execution_count": null,
   "metadata": {},
   "outputs": [],
   "source": []
  }
 ],
 "metadata": {
  "anaconda-cloud": {},
  "kernelspec": {
   "display_name": "Python (cdsrl)",
   "language": "python",
   "name": "cdsrl"
  },
  "language_info": {
   "codemirror_mode": {
    "name": "ipython",
    "version": 3
   },
   "file_extension": ".py",
   "mimetype": "text/x-python",
   "name": "python",
   "nbconvert_exporter": "python",
   "pygments_lexer": "ipython3",
   "version": "3.7.3"
  }
 },
 "nbformat": 4,
 "nbformat_minor": 2
}
