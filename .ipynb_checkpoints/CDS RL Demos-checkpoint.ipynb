{
 "cells": [
  {
   "cell_type": "markdown",
   "metadata": {},
   "source": [
    "# CDS-RL Demos\n",
    "A place to experiment with RL techniques on various systems that are well-understood by CDS\n",
    "\n",
    "Note: set up a conda environment according to setup_instructions.txt "
   ]
  },
  {
   "cell_type": "code",
   "execution_count": null,
   "metadata": {
    "scrolled": true
   },
   "outputs": [],
   "source": [
    "import matplotlib\n",
    "%matplotlib notebook\n",
    "\n",
    "# Setup outputs\n",
    "output_dir = '/Users/nataliebernat/Documents/Github/Research/Doyle_RLandCtrl/RL_outputs'\n",
    "fig_dir = output_dir+'/figures/'\n"
   ]
  },
  {
   "cell_type": "markdown",
   "metadata": {},
   "source": [
    "## Sanity check: Spinningup"
   ]
  },
  {
   "cell_type": "markdown",
   "metadata": {},
   "source": [
    "Setup"
   ]
  },
  {
   "cell_type": "code",
   "execution_count": null,
   "metadata": {
    "scrolled": true
   },
   "outputs": [],
   "source": [
    "from spinup import ppo, vpg\n",
    "from spinup.utils import plot\n",
    "import tensorflow as tf\n",
    "import gym\n",
    "import matplotlib.pyplot as plt\n",
    "\n",
    "import matplotlib\n",
    "%matplotlib notebook\n",
    "\n",
    "# Setup outputs\n",
    "output_dir = '/Users/nataliebernat/Documents/Github/Research/Doyle_RLandCtrl/RL_outputs'\n",
    "fig_dir = output_dir+'/figures/'"
   ]
  },
  {
   "cell_type": "code",
   "execution_count": null,
   "metadata": {
    "scrolled": true
   },
   "outputs": [],
   "source": [
    "env_fn = lambda : gym.make('LunarLander-v2')\n",
    "ac_kwargs = dict(hidden_sizes=[64,64], activation=tf.nn.relu)\n",
    "num_steps_per_epoch=5000\n",
    "num_epochs = 100 #(this will take like 5-10min per experiment)"
   ]
  },
  {
   "cell_type": "markdown",
   "metadata": {},
   "source": [
    "Run each exp (saves outputs automatically)"
   ]
  },
  {
   "cell_type": "code",
   "execution_count": null,
   "metadata": {
    "scrolled": true
   },
   "outputs": [],
   "source": [
    "exp_name = 'vpg_test'\n",
    "logger_kwargs = dict(output_dir=output_dir+'/spinup_tests/'+exp_name+'/', exp_name=exp_name)\n",
    "vpg(env_fn=env_fn, steps_per_epoch=num_steps_per_epoch, epochs=num_epochs, logger_kwargs=logger_kwargs)"
   ]
  },
  {
   "cell_type": "code",
   "execution_count": null,
   "metadata": {
    "scrolled": true
   },
   "outputs": [],
   "source": [
    "exp_name = 'ppo_test'\n",
    "\n",
    "tf.reset_default_graph()\n",
    "logger_kwargs = dict(output_dir=output_dir+'/spinup_tests/'+exp_name+'/', exp_name=exp_name)\n",
    "ppo(env_fn=env_fn, ac_kwargs=ac_kwargs, steps_per_epoch=num_steps_per_epoch, epochs=num_epochs, logger_kwargs=logger_kwargs)"
   ]
  },
  {
   "cell_type": "markdown",
   "metadata": {},
   "source": [
    "Plot the learning curves (Sometimes this crashes the kernel, but the data is saved to disk so just try this again)"
   ]
  },
  {
   "cell_type": "code",
   "execution_count": null,
   "metadata": {
    "scrolled": true
   },
   "outputs": [],
   "source": [
    "#plot_data(data, xaxis='Epoch', value=\"AverageEpRet\", condition=\"Condition1\", smooth=1, **kwargs)\n",
    "data = plot.get_all_datasets([output_dir+'/spinup_tests'], None, None, None)\n",
    "plt.figure()\n",
    "plot.plot_data(data)"
   ]
  },
  {
   "cell_type": "code",
   "execution_count": null,
   "metadata": {
    "scrolled": true
   },
   "outputs": [],
   "source": []
  },
  {
   "cell_type": "markdown",
   "metadata": {},
   "source": [
    "## Sanity Check: Stable-Baselines"
   ]
  },
  {
   "cell_type": "markdown",
   "metadata": {},
   "source": [
    "Learn policy for cartpole; learning displays; render videos"
   ]
  },
  {
   "cell_type": "code",
   "execution_count": null,
   "metadata": {
    "scrolled": true
   },
   "outputs": [],
   "source": [
    "import gym\n",
    "from IPython import display\n",
    "import matplotlib\n",
    "import matplotlib.pyplot as plt\n",
    "\n",
    "from stable_baselines.common.policies import MlpPolicy\n",
    "from stable_baselines.common.vec_env import DummyVecEnv\n",
    "from stable_baselines import PPO2\n",
    "\n",
    "import matplotlib\n",
    "%matplotlib notebook\n",
    "\n",
    "# Setup outputs\n",
    "output_dir = '/Users/nataliebernat/Documents/Github/Research/Doyle_RLandCtrl/RL_outputs'\n",
    "fig_dir = output_dir+'/figures/'"
   ]
  },
  {
   "cell_type": "code",
   "execution_count": null,
   "metadata": {
    "scrolled": true
   },
   "outputs": [],
   "source": [
    "env = gym.make('CartPole-v1')\n",
    "env = DummyVecEnv([lambda: env])  # The algorithms require a vectorized environment to run\n",
    "\n",
    "model = PPO2(MlpPolicy, env, verbose=1)"
   ]
  },
  {
   "cell_type": "code",
   "execution_count": null,
   "metadata": {
    "scrolled": true
   },
   "outputs": [],
   "source": [
    "model.learn(total_timesteps=100)"
   ]
  },
  {
   "cell_type": "code",
   "execution_count": null,
   "metadata": {
    "scrolled": true
   },
   "outputs": [],
   "source": [
    "# NOTE: This is very slow.... Eventually make a wrapper for this, and just generate a video and then play the video\n",
    "\n",
    "obs = env.reset()\n",
    "img = plt.imshow(env.render(mode='rgb_array')) # only call this once\n",
    "for i in range(1000):\n",
    "    img.set_data(env.render(mode='rgb_array')) # just update the data\n",
    "    display.display(plt.gcf())\n",
    "    display.clear_output(wait=True)\n",
    "    action, _states = model.predict(obs)\n",
    "    obs, rewards, dones, info = env.step(action)\n",
    "    "
   ]
  },
  {
   "cell_type": "code",
   "execution_count": null,
   "metadata": {
    "scrolled": true
   },
   "outputs": [],
   "source": []
  },
  {
   "cell_type": "code",
   "execution_count": null,
   "metadata": {
    "scrolled": true
   },
   "outputs": [],
   "source": []
  },
  {
   "cell_type": "code",
   "execution_count": null,
   "metadata": {
    "scrolled": true
   },
   "outputs": [],
   "source": []
  },
  {
   "cell_type": "markdown",
   "metadata": {},
   "source": [
    "## CDS Alpha experiments"
   ]
  },
  {
   "cell_type": "code",
   "execution_count": null,
   "metadata": {},
   "outputs": [],
   "source": []
  },
  {
   "cell_type": "markdown",
   "metadata": {},
   "source": [
    "### Large batch of seeded expts w/ white noise"
   ]
  },
  {
   "cell_type": "code",
   "execution_count": 8,
   "metadata": {},
   "outputs": [],
   "source": [
    "import numpy as np\n",
    "from spinup import ppo, vpg\n",
    "from spinup.utils import plot\n",
    "import tensorflow as tf\n",
    "import gym\n",
    "import gym_cdsalpha\n",
    "import matplotlib.pyplot as plt\n",
    "import os\n",
    "\n",
    "import matplotlib\n",
    "%matplotlib notebook\n",
    "\n",
    "def make_dir_strs(test_group, reg, horiz, seed, sigma):\n",
    "    reg_str = 'reg{0:.0e}'.format(reg).replace('.','pt')\n",
    "    horiz_str = 'horiz{0}'.format(horiz)\n",
    "    if seed==None:\n",
    "        seed_str = 'unseeded'\n",
    "    else:\n",
    "        seed_str = 'seed{0}'.format(seed)\n",
    "\n",
    "    if sigma==0:\n",
    "        noise_str = 'nonoise'\n",
    "    else:\n",
    "        noise_str = 'whitenoise{0:.1f}'.format(sigma).replace('.','pt')\n",
    "\n",
    "    # Setup outputs\n",
    "    out_dir = '/Users/nataliebernat/Documents/Github/Research/Doyle_RLandCtrl/RL_outputs'\n",
    "    fig_dir = out_dir+'/figures'\n",
    "    exp_out_dir = '{0}/{1}/{2}/{3}/{4}/'.format(out_dir,test_group,horiz_str+reg_str,noise_str,seed_str).replace('.','pt')\n",
    "    exp_fig_dir = '{0}/{1}/{2}/{3}/{4}/'.format(fig_dir,test_group,horiz_str+reg_str,noise_str,seed_str).replace('.','pt')\n",
    "    \n",
    "    return exp_out_dir, exp_fig_dir"
   ]
  },
  {
   "cell_type": "code",
   "execution_count": null,
   "metadata": {
    "scrolled": true
   },
   "outputs": [
    {
     "name": "stdout",
     "output_type": "stream",
     "text": [
      "Warning: Log dir /Users/nataliebernat/Documents/Github/Research/Doyle_RLandCtrl/RL_outputs/normrew_tests/horiz5reg1e+00/whitenoise0pt4/seed1/alpha0pt0_vpg_test/ already exists! Storing info there anyway.\n",
      "\u001b[32;1mLogging data to /Users/nataliebernat/Documents/Github/Research/Doyle_RLandCtrl/RL_outputs/normrew_tests/horiz5reg1e+00/whitenoise0pt4/seed1/alpha0pt0_vpg_test/progress.txt\u001b[0m\n",
      "\u001b[36;1mSaving config:\n",
      "\u001b[0m\n",
      "{\n",
      "    \"ac_kwargs\":\t{\n",
      "        \"action_space\":\t{\n",
      "            \"Box(1,)\":\t{\n",
      "                \"bounded_above\":\t\"[ True]\",\n",
      "                \"bounded_below\":\t\"[ True]\",\n",
      "                \"dtype\":\t\"float32\",\n",
      "                \"high\":\t\"[100.]\",\n",
      "                \"low\":\t\"[-100.]\",\n",
      "                \"np_random\":\t\"<mtrand.RandomState object at 0x1c36a70438>\",\n",
      "                \"shape\":\t[\n",
      "                    1\n",
      "                ]\n",
      "            }\n",
      "        }\n",
      "    },\n",
      "    \"actor_critic\":\t\"mlp_actor_critic\",\n",
      "    \"env_fn\":\t\"<function <lambda> at 0x1c411dad90>\",\n",
      "    \"epochs\":\t100,\n",
      "    \"exp_name\":\t\"alpha0pt0_vpg_test\",\n",
      "    \"gamma\":\t0.99,\n",
      "    \"lam\":\t0.97,\n",
      "    \"logger\":\t{\n",
      "        \"<spinup.utils.logx.EpochLogger object at 0x102824e10>\":\t{\n",
      "            \"epoch_dict\":\t{},\n",
      "            \"exp_name\":\t\"alpha0pt0_vpg_test\",\n",
      "            \"first_row\":\ttrue,\n",
      "            \"log_current_row\":\t{},\n",
      "            \"log_headers\":\t[],\n",
      "            \"output_dir\":\t\"/Users/nataliebernat/Documents/Github/Research/Doyle_RLandCtrl/RL_outputs/normrew_tests/horiz5reg1e+00/whitenoise0pt4/seed1/alpha0pt0_vpg_test/\",\n",
      "            \"output_file\":\t{\n",
      "                \"<_io.TextIOWrapper name='/Users/nataliebernat/Documents/Github/Research/Doyle_RLandCtrl/RL_outputs/normrew_tests/horiz5reg1e+00/whitenoise0pt4/seed1/alpha0pt0_vpg_test/progress.txt' mode='w' encoding='UTF-8'>\":\t{\n",
      "                    \"mode\":\t\"w\"\n",
      "                }\n",
      "            }\n",
      "        }\n",
      "    },\n",
      "    \"logger_kwargs\":\t{\n",
      "        \"exp_name\":\t\"alpha0pt0_vpg_test\",\n",
      "        \"output_dir\":\t\"/Users/nataliebernat/Documents/Github/Research/Doyle_RLandCtrl/RL_outputs/normrew_tests/horiz5reg1e+00/whitenoise0pt4/seed1/alpha0pt0_vpg_test/\"\n",
      "    },\n",
      "    \"max_ep_len\":\t1000,\n",
      "    \"pi_lr\":\t0.0003,\n",
      "    \"save_freq\":\t10,\n",
      "    \"seed\":\t0,\n",
      "    \"steps_per_epoch\":\t5000,\n",
      "    \"train_v_iters\":\t80,\n",
      "    \"vf_lr\":\t0.001\n",
      "}\n",
      "\u001b[32;1m\n",
      "Number of parameters: \t pi: 4418, \t v: 4417\n",
      "\u001b[0m\n",
      "INFO:tensorflow:Assets added to graph.\n",
      "INFO:tensorflow:No assets to write.\n",
      "INFO:tensorflow:SavedModel written to: /Users/nataliebernat/Documents/Github/Research/Doyle_RLandCtrl/RL_outputs/normrew_tests/horiz5reg1e+00/whitenoise0pt4/seed1/alpha0pt0_vpg_test/simple_save/saved_model.pb\n",
      "---------------------------------------\n",
      "|             Epoch |               0 |\n",
      "|      AverageEpRet |           -2.81 |\n",
      "|          StdEpRet |             2.3 |\n",
      "|          MaxEpRet |          -0.268 |\n",
      "|          MinEpRet |           -23.6 |\n",
      "|             EpLen |               5 |\n",
      "|      AverageVVals |        8.22e-06 |\n",
      "|          StdVVals |           0.111 |\n",
      "|          MaxVVals |           0.453 |\n",
      "|          MinVVals |          -0.424 |\n",
      "| TotalEnvInteracts |           5e+03 |\n",
      "|            LossPi |           -0.18 |\n",
      "|             LossV |            9.72 |\n",
      "|       DeltaLossPi |         -0.0159 |\n",
      "|        DeltaLossV |           -5.24 |\n",
      "|           Entropy |           0.932 |\n",
      "|                KL |         0.00107 |\n",
      "|              Time |            7.93 |\n",
      "---------------------------------------\n",
      "---------------------------------------\n",
      "|             Epoch |               1 |\n",
      "|      AverageEpRet |           -2.58 |\n",
      "|          StdEpRet |            2.12 |\n",
      "|          MaxEpRet |         -0.0938 |\n",
      "|          MinEpRet |           -21.2 |\n",
      "|             EpLen |               5 |\n",
      "|      AverageVVals |            -2.2 |\n",
      "|          StdVVals |          0.0769 |\n",
      "|          MaxVVals |           -1.64 |\n",
      "|          MinVVals |           -2.44 |\n",
      "| TotalEnvInteracts |           1e+04 |\n",
      "|            LossPi |          -0.183 |\n",
      "|             LossV |            3.69 |\n",
      "|       DeltaLossPi |          -0.013 |\n",
      "|        DeltaLossV |          -0.057 |\n",
      "|           Entropy |           0.913 |\n",
      "|                KL |        0.000737 |\n",
      "|              Time |            13.8 |\n",
      "---------------------------------------\n",
      "---------------------------------------\n",
      "|             Epoch |               2 |\n",
      "|      AverageEpRet |           -2.58 |\n",
      "|          StdEpRet |            2.11 |\n",
      "|          MaxEpRet |          -0.229 |\n",
      "|          MinEpRet |           -26.4 |\n",
      "|             EpLen |               5 |\n",
      "|      AverageVVals |           -2.07 |\n",
      "|          StdVVals |          0.0837 |\n",
      "|          MaxVVals |          -0.826 |\n",
      "|          MinVVals |           -3.04 |\n",
      "| TotalEnvInteracts |         1.5e+04 |\n",
      "|            LossPi |          -0.203 |\n",
      "|             LossV |            3.68 |\n",
      "|       DeltaLossPi |         -0.0162 |\n",
      "|        DeltaLossV |          -0.053 |\n",
      "|           Entropy |           0.912 |\n",
      "|                KL |         0.00267 |\n",
      "|              Time |            18.5 |\n",
      "---------------------------------------\n",
      "---------------------------------------\n",
      "|             Epoch |               3 |\n",
      "|      AverageEpRet |           -2.38 |\n",
      "|          StdEpRet |             1.7 |\n",
      "|          MaxEpRet |          -0.191 |\n",
      "|          MinEpRet |           -12.6 |\n",
      "|             EpLen |               5 |\n",
      "|      AverageVVals |           -2.09 |\n",
      "|          StdVVals |          0.0707 |\n",
      "|          MaxVVals |           -1.79 |\n",
      "|          MinVVals |           -2.34 |\n",
      "| TotalEnvInteracts |           2e+04 |\n",
      "|            LossPi |          -0.199 |\n",
      "|             LossV |            2.39 |\n",
      "|       DeltaLossPi |           -0.01 |\n",
      "|        DeltaLossV |         -0.0417 |\n",
      "|           Entropy |           0.908 |\n",
      "|                KL |        0.000181 |\n",
      "|              Time |              24 |\n",
      "---------------------------------------\n",
      "---------------------------------------\n",
      "|             Epoch |               4 |\n",
      "|      AverageEpRet |           -2.35 |\n",
      "|          StdEpRet |            1.57 |\n",
      "|          MaxEpRet |          -0.206 |\n",
      "|          MinEpRet |           -11.4 |\n",
      "|             EpLen |               5 |\n",
      "|      AverageVVals |            -1.9 |\n",
      "|          StdVVals |          0.0193 |\n",
      "|          MaxVVals |           -1.75 |\n",
      "|          MinVVals |           -1.93 |\n",
      "| TotalEnvInteracts |         2.5e+04 |\n",
      "|            LossPi |          -0.224 |\n",
      "|             LossV |            2.08 |\n",
      "|       DeltaLossPi |         -0.0102 |\n",
      "|        DeltaLossV |        -0.00558 |\n",
      "|           Entropy |           0.929 |\n",
      "|                KL |        0.000794 |\n",
      "|              Time |              29 |\n",
      "---------------------------------------\n",
      "---------------------------------------\n",
      "|             Epoch |               5 |\n",
      "|      AverageEpRet |           -2.29 |\n",
      "|          StdEpRet |            1.52 |\n",
      "|          MaxEpRet |          -0.231 |\n",
      "|          MinEpRet |           -11.1 |\n",
      "|             EpLen |               5 |\n",
      "|      AverageVVals |           -1.87 |\n",
      "|          StdVVals |          0.0502 |\n",
      "|          MaxVVals |           -1.57 |\n",
      "|          MinVVals |              -2 |\n",
      "| TotalEnvInteracts |           3e+04 |\n",
      "|            LossPi |          -0.215 |\n",
      "|             LossV |            1.93 |\n",
      "|       DeltaLossPi |        -0.00866 |\n",
      "|        DeltaLossV |         -0.0114 |\n",
      "|           Entropy |           0.909 |\n",
      "|                KL |          0.0014 |\n",
      "|              Time |            33.8 |\n",
      "---------------------------------------\n"
     ]
    }
   ],
   "source": [
    "# # # Train # # #\n",
    "\n",
    "#TODO:\n",
    "\n",
    "# r=1, horiz = 50\n",
    "# r=1, horiz = 500\n",
    "# r=0, horiz = 50\n",
    "# r=0, horiz = 500\n",
    "\n",
    "# Setup experiment parameters\n",
    "test_group = 'normrew_tests'\n",
    "do_vpg = True\n",
    "do_ppo = False\n",
    "seed = 1\n",
    "sigma = 0.4\n",
    "regs = [0,1]        #[1, 0.1, 0.01, 0.001, 0.0001, 0.00001]\n",
    "horizs = [50, 500]\n",
    "alphas = [0.0, 0.1, 0.2, 0.4, 0.8, 1.0]\n",
    "\n",
    "\n",
    "if not os.path.exists(exp_fig_dir):\n",
    "    os.makedirs(exp_fig_dir)\n",
    "\n",
    "# Setup learning parameters\n",
    "num_steps_per_epoch=5000\n",
    "num_epochs = 100 #(this will take like 5-10min per experiment, longer when it performs poorly)\n",
    "\n",
    "for reg in regs:\n",
    "    for horiz in horizs:\n",
    "        for alpha in alphas:\n",
    "            \n",
    "            exp_out_dir, exp_fig_dir = make_dir_strs(test_group, reg, horiz, seed, sigma)\n",
    "            env_fn = lambda : gym.make('cdsalpha-v1', a=alpha, sigma=sigma, seed=seed, reg=reg, horiz=horiz)\n",
    "\n",
    "            if do_vpg:\n",
    "                exp_name = 'alpha{0:.1f}_vpg_test'.format(alpha).replace('.','pt')\n",
    "                tf.reset_default_graph()\n",
    "                logger_kwargs = dict(output_dir=exp_out_dir+exp_name+'/', exp_name=exp_name)\n",
    "                vpg(env_fn=env_fn, steps_per_epoch=num_steps_per_epoch, epochs=num_epochs, logger_kwargs=logger_kwargs)\n",
    "\n",
    "            if do_ppo:\n",
    "                exp_name = 'alpha{0:.1f}_ppo_test'.format(alpha).replace('.','pt')\n",
    "                tf.reset_default_graph()\n",
    "                logger_kwargs = dict(output_dir=exp_out_dir+exp_name+'/', exp_name=exp_name)\n",
    "                ppo(env_fn=env_fn, steps_per_epoch=num_steps_per_epoch, epochs=num_epochs, logger_kwargs=logger_kwargs)"
   ]
  },
  {
   "cell_type": "code",
   "execution_count": null,
   "metadata": {},
   "outputs": [],
   "source": [
    "# # # Plot Training # # #\n",
    "\n",
    "#plot_data(data, xaxis='Epoch', value=\"AverageEpRet\", condition=\"Condition1\", smooth=1, **kwargs)\n",
    "seed = 1\n",
    "sigma = 0.1 #[0.1, 0.4]\n",
    "regs = [1]#, 0.1, 0.01, 0.001, 0.0001, 0.00001]\n",
    "alphas = [0.0, 0.1, 0.2, 0.4, 0.8, 1.0]\n",
    "horiz = 5\n",
    "test_group = 'normrew_tests'\n",
    "\n",
    "for reg in regs:\n",
    "    \n",
    "    for alpha in alphas:\n",
    "        exp_out_dir, exp_fig_dir = make_dir_strs(test_group, reg, horiz, seed, sigma)\n",
    "        test_name = 'alpha{0:.1f}'.format(alpha).replace('.','pt')\n",
    "        data = plot.get_all_datasets([exp_out_dir+test_name], None, None, None)\n",
    "        plt.figure()\n",
    "        plt.title('{0},{1},{2},{3}'.format(test_name,noise_str,horiz_str,reg_str))\n",
    "        plot.plot_data(data)\n",
    "        plt.ylim((-5, 0)) #bottom, top\n",
    "        plt.savefig(exp_fig_dir+test_name)#+'_closeup')"
   ]
  },
  {
   "cell_type": "code",
   "execution_count": null,
   "metadata": {},
   "outputs": [],
   "source": [
    "# # # Test # # #\n",
    "\n",
    "from spinup.utils.test_policy import load_policy, run_policy\n",
    "\n",
    "alpha = 0.0\n",
    "sigma = 0.4\n",
    "seed = 1\n",
    "train_reg\n",
    "test_reg = 0\n",
    "train_horiz = 5\n",
    "test_horiz = 100 # Longer for testing\n",
    "test_group = 'normrew_tests'\n",
    "alg_type = 'vpg'\n",
    "\n",
    "exp_out_dir, exp_fig_dir = make_dir_strs(test_group, train_reg, train_horiz, seed, sigma)\n",
    "test_name = 'alpha{0:.1f}_{1}_test/'.format(alpha, alg_type).replace('.','pt')\n",
    "\n",
    "_, get_action = load_policy(exp_out_dir+test_name)\n",
    "env = gym.make('cdsalpha-v1', a=alpha, sigma=sigma, seed=seed, reg=test_reg, horiz=test_horiz)\n",
    "run_policy(env, get_action, render=False)"
   ]
  },
  {
   "cell_type": "code",
   "execution_count": null,
   "metadata": {},
   "outputs": [],
   "source": []
  },
  {
   "cell_type": "code",
   "execution_count": null,
   "metadata": {},
   "outputs": [],
   "source": []
  }
 ],
 "metadata": {
  "anaconda-cloud": {},
  "kernelspec": {
   "display_name": "Python (cdsrl)",
   "language": "python",
   "name": "cdsrl"
  },
  "language_info": {
   "codemirror_mode": {
    "name": "ipython",
    "version": 3
   },
   "file_extension": ".py",
   "mimetype": "text/x-python",
   "name": "python",
   "nbconvert_exporter": "python",
   "pygments_lexer": "ipython3",
   "version": "3.7.3"
  }
 },
 "nbformat": 4,
 "nbformat_minor": 2
}
