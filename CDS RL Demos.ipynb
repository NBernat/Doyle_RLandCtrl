{
 "cells": [
  {
   "cell_type": "markdown",
   "metadata": {},
   "source": [
    "# CDS-RL Demos\n",
    "A place to experiment with RL techniques on various systems that are well-understood by CDS\n",
    "\n",
    "Note: set up a conda environment according to setup_instructions.txt "
   ]
  },
  {
   "cell_type": "code",
   "execution_count": null,
   "metadata": {
    "scrolled": true
   },
   "outputs": [],
   "source": [
    "import matplotlib\n",
    "%matplotlib notebook\n",
    "\n",
    "# Setup outputs\n",
    "output_dir = '/Users/nataliebernat/Documents/Github/Research/Doyle_RLandCtrl/RL_outputs'\n",
    "fig_dir = output_dir+'/figures/'\n"
   ]
  },
  {
   "cell_type": "markdown",
   "metadata": {},
   "source": [
    "## Sanity check: Spinningup"
   ]
  },
  {
   "cell_type": "markdown",
   "metadata": {},
   "source": [
    "Setup"
   ]
  },
  {
   "cell_type": "code",
   "execution_count": null,
   "metadata": {
    "scrolled": true
   },
   "outputs": [],
   "source": [
    "from spinup import ppo, vpg\n",
    "from spinup.utils import plot\n",
    "import tensorflow as tf\n",
    "import gym\n",
    "import matplotlib.pyplot as plt\n",
    "\n",
    "import matplotlib\n",
    "%matplotlib notebook\n",
    "\n",
    "# Setup outputs\n",
    "output_dir = '/Users/nataliebernat/Documents/Github/Research/Doyle_RLandCtrl/RL_outputs'\n",
    "fig_dir = output_dir+'/figures/'"
   ]
  },
  {
   "cell_type": "code",
   "execution_count": null,
   "metadata": {
    "scrolled": true
   },
   "outputs": [],
   "source": [
    "env_fn = lambda : gym.make('LunarLander-v2')\n",
    "ac_kwargs = dict(hidden_sizes=[64,64], activation=tf.nn.relu)\n",
    "num_steps_per_epoch=5000\n",
    "num_epochs = 100 #(this will take like 5-10min per experiment)"
   ]
  },
  {
   "cell_type": "markdown",
   "metadata": {},
   "source": [
    "Run each exp (saves outputs automatically)"
   ]
  },
  {
   "cell_type": "code",
   "execution_count": null,
   "metadata": {
    "scrolled": true
   },
   "outputs": [],
   "source": [
    "exp_name = 'vpg_test'\n",
    "logger_kwargs = dict(output_dir=output_dir+'/spinup_tests/'+exp_name+'/', exp_name=exp_name)\n",
    "vpg(env_fn=env_fn, steps_per_epoch=num_steps_per_epoch, epochs=num_epochs, logger_kwargs=logger_kwargs)"
   ]
  },
  {
   "cell_type": "code",
   "execution_count": null,
   "metadata": {
    "scrolled": true
   },
   "outputs": [],
   "source": [
    "exp_name = 'ppo_test'\n",
    "\n",
    "tf.reset_default_graph()\n",
    "logger_kwargs = dict(output_dir=output_dir+'/spinup_tests/'+exp_name+'/', exp_name=exp_name)\n",
    "ppo(env_fn=env_fn, ac_kwargs=ac_kwargs, steps_per_epoch=num_steps_per_epoch, epochs=num_epochs, logger_kwargs=logger_kwargs)"
   ]
  },
  {
   "cell_type": "markdown",
   "metadata": {},
   "source": [
    "Plot the learning curves (Sometimes this crashes the kernel, but the data is saved to disk so just try this again)"
   ]
  },
  {
   "cell_type": "code",
   "execution_count": null,
   "metadata": {
    "scrolled": true
   },
   "outputs": [],
   "source": [
    "#plot_data(data, xaxis='Epoch', value=\"AverageEpRet\", condition=\"Condition1\", smooth=1, **kwargs)\n",
    "data = plot.get_all_datasets([output_dir+'/spinup_tests'], None, None, None)\n",
    "plt.figure()\n",
    "plot.plot_data(data)"
   ]
  },
  {
   "cell_type": "code",
   "execution_count": null,
   "metadata": {
    "scrolled": true
   },
   "outputs": [],
   "source": []
  },
  {
   "cell_type": "markdown",
   "metadata": {},
   "source": [
    "## Sanity Check: Stable-Baselines"
   ]
  },
  {
   "cell_type": "markdown",
   "metadata": {},
   "source": [
    "Learn policy for cartpole; learning displays; render videos"
   ]
  },
  {
   "cell_type": "code",
   "execution_count": null,
   "metadata": {
    "scrolled": true
   },
   "outputs": [],
   "source": [
    "import gym\n",
    "from IPython import display\n",
    "import matplotlib\n",
    "import matplotlib.pyplot as plt\n",
    "\n",
    "from stable_baselines.common.policies import MlpPolicy\n",
    "from stable_baselines.common.vec_env import DummyVecEnv\n",
    "from stable_baselines import PPO2\n",
    "\n",
    "import matplotlib\n",
    "%matplotlib notebook\n",
    "\n",
    "# Setup outputs\n",
    "output_dir = '/Users/nataliebernat/Documents/Github/Research/Doyle_RLandCtrl/RL_outputs'\n",
    "fig_dir = output_dir+'/figures/'"
   ]
  },
  {
   "cell_type": "code",
   "execution_count": null,
   "metadata": {
    "scrolled": true
   },
   "outputs": [],
   "source": [
    "env = gym.make('CartPole-v1')\n",
    "env = DummyVecEnv([lambda: env])  # The algorithms require a vectorized environment to run\n",
    "\n",
    "model = PPO2(MlpPolicy, env, verbose=1)"
   ]
  },
  {
   "cell_type": "code",
   "execution_count": null,
   "metadata": {
    "scrolled": true
   },
   "outputs": [],
   "source": [
    "model.learn(total_timesteps=100)"
   ]
  },
  {
   "cell_type": "code",
   "execution_count": null,
   "metadata": {
    "scrolled": true
   },
   "outputs": [],
   "source": [
    "# NOTE: This is very slow.... Eventually make a wrapper for this, and just generate a video and then play the video\n",
    "\n",
    "obs = env.reset()\n",
    "img = plt.imshow(env.render(mode='rgb_array')) # only call this once\n",
    "for i in range(1000):\n",
    "    img.set_data(env.render(mode='rgb_array')) # just update the data\n",
    "    display.display(plt.gcf())\n",
    "    display.clear_output(wait=True)\n",
    "    action, _states = model.predict(obs)\n",
    "    obs, rewards, dones, info = env.step(action)\n",
    "    "
   ]
  },
  {
   "cell_type": "code",
   "execution_count": null,
   "metadata": {
    "scrolled": true
   },
   "outputs": [],
   "source": []
  },
  {
   "cell_type": "markdown",
   "metadata": {},
   "source": []
  },
  {
   "cell_type": "code",
   "execution_count": null,
   "metadata": {
    "scrolled": true
   },
   "outputs": [],
   "source": []
  },
  {
   "cell_type": "code",
   "execution_count": null,
   "metadata": {
    "scrolled": true
   },
   "outputs": [],
   "source": []
  },
  {
   "cell_type": "markdown",
   "metadata": {},
   "source": [
    "## YPL experiments"
   ]
  },
  {
   "cell_type": "code",
   "execution_count": null,
   "metadata": {
    "scrolled": true
   },
   "outputs": [],
   "source": []
  },
  {
   "cell_type": "code",
   "execution_count": null,
   "metadata": {
    "scrolled": true
   },
   "outputs": [],
   "source": []
  },
  {
   "cell_type": "markdown",
   "metadata": {},
   "source": [
    "## Modified Cartpole SysID experiments"
   ]
  },
  {
   "cell_type": "code",
   "execution_count": null,
   "metadata": {
    "scrolled": true
   },
   "outputs": [],
   "source": []
  },
  {
   "cell_type": "code",
   "execution_count": null,
   "metadata": {
    "scrolled": true
   },
   "outputs": [],
   "source": []
  },
  {
   "cell_type": "code",
   "execution_count": null,
   "metadata": {
    "scrolled": true
   },
   "outputs": [],
   "source": []
  },
  {
   "cell_type": "code",
   "execution_count": null,
   "metadata": {
    "scrolled": true
   },
   "outputs": [],
   "source": []
  },
  {
   "cell_type": "markdown",
   "metadata": {},
   "source": [
    "## CDS Alpha initial experiments"
   ]
  },
  {
   "cell_type": "code",
   "execution_count": null,
   "metadata": {
    "scrolled": true
   },
   "outputs": [],
   "source": [
    "from spinup import ppo, vpg\n",
    "from spinup.utils import plot\n",
    "import tensorflow as tf\n",
    "import gym\n",
    "import matplotlib.pyplot as plt\n",
    "\n",
    "import matplotlib\n",
    "%matplotlib notebook\n",
    "\n",
    "# Setup outputs\n",
    "output_dir = '/Users/nataliebernat/Documents/Github/Research/Doyle_RLandCtrl/RL_outputs'\n",
    "fig_dir = output_dir+'/figures/'"
   ]
  },
  {
   "cell_type": "code",
   "execution_count": null,
   "metadata": {
    "scrolled": true
   },
   "outputs": [],
   "source": [
    "import gym_cdsalpha"
   ]
  },
  {
   "cell_type": "code",
   "execution_count": null,
   "metadata": {
    "scrolled": true
   },
   "outputs": [],
   "source": [
    "env_fn = lambda : gym.make('cdsalpha-v0')\n",
    "ac_kwargs = dict(hidden_sizes=[64,64], activation=tf.nn.relu)\n",
    "num_steps_per_epoch=5000\n",
    "num_epochs = 100 #(this will take like 5-10min per experiment)"
   ]
  },
  {
   "cell_type": "markdown",
   "metadata": {},
   "source": [
    "Run each exp (saves outputs automatically)"
   ]
  },
  {
   "cell_type": "code",
   "execution_count": null,
   "metadata": {
    "scrolled": true
   },
   "outputs": [],
   "source": [
    "exp_name = 'cdsalpha0_vpg_test'\n",
    "tf.reset_default_graph()\n",
    "logger_kwargs = dict(output_dir=output_dir+'/env_tests/'+exp_name+'/', exp_name=exp_name)\n",
    "vpg(env_fn=env_fn, steps_per_epoch=num_steps_per_epoch, epochs=num_epochs, logger_kwargs=logger_kwargs)"
   ]
  },
  {
   "cell_type": "code",
   "execution_count": null,
   "metadata": {
    "scrolled": true
   },
   "outputs": [],
   "source": [
    "exp_name = 'cdsalpha0_ppo_test'\n",
    "tf.reset_default_graph()\n",
    "logger_kwargs = dict(output_dir=output_dir+'/env_tests/'+exp_name+'/', exp_name=exp_name)\n",
    "ppo(env_fn=env_fn, ac_kwargs=ac_kwargs, steps_per_epoch=num_steps_per_epoch, epochs=num_epochs, logger_kwargs=logger_kwargs)"
   ]
  },
  {
   "cell_type": "markdown",
   "metadata": {},
   "source": [
    "Plot the learning curves (Sometimes this crashes the kernel, but the data is saved to disk so just try this again)"
   ]
  },
  {
   "cell_type": "code",
   "execution_count": null,
   "metadata": {
    "scrolled": true
   },
   "outputs": [],
   "source": [
    "#plot_data(data, xaxis='Epoch', value=\"AverageEpRet\", condition=\"Condition1\", smooth=1, **kwargs)\n",
    "data = plot.get_all_datasets([output_dir+'/env_tests/cdsalpha0_'], None, None, None)\n",
    "plt.figure()\n",
    "plot.plot_data(data)\n",
    "#plt.savefig(fig_dir+'/env_tests/cdsalpha0_')"
   ]
  },
  {
   "cell_type": "code",
   "execution_count": null,
   "metadata": {
    "scrolled": true
   },
   "outputs": [],
   "source": [
    "import numpy as np\n",
    "testenv = gym.make('cdsalpha-v0')\n",
    "testenv.reset()\n",
    "print (testenv.state)\n",
    "u=2.5\n",
    "print (np.matmul(testenv.A,testenv.state))\n",
    "testenv.B = np.array([1,1])\n",
    "print (u*testenv.B )\n",
    "print (np.matmul(testenv.A,testenv.state) + u*testenv.B )\n",
    "\n",
    "x1 = testenv.state[0]\n",
    "x2 = testenv.state[1]\n",
    "print (x1)\n",
    "print (x2)"
   ]
  },
  {
   "cell_type": "code",
   "execution_count": null,
   "metadata": {
    "scrolled": true
   },
   "outputs": [],
   "source": []
  },
  {
   "cell_type": "code",
   "execution_count": null,
   "metadata": {},
   "outputs": [],
   "source": []
  },
  {
   "cell_type": "code",
   "execution_count": null,
   "metadata": {},
   "outputs": [],
   "source": []
  },
  {
   "cell_type": "code",
   "execution_count": null,
   "metadata": {},
   "outputs": [],
   "source": []
  },
  {
   "cell_type": "markdown",
   "metadata": {},
   "source": [
    "## CDS Alpha experiments"
   ]
  },
  {
   "cell_type": "markdown",
   "metadata": {},
   "source": [
    "### Single expt"
   ]
  },
  {
   "cell_type": "code",
   "execution_count": null,
   "metadata": {
    "scrolled": true
   },
   "outputs": [],
   "source": [
    "from spinup import ppo, vpg\n",
    "from spinup.utils import plot\n",
    "import tensorflow as tf\n",
    "import gym\n",
    "import gym_cdsalpha\n",
    "import matplotlib.pyplot as plt\n",
    "\n",
    "import matplotlib\n",
    "%matplotlib notebook\n",
    "\n",
    "# Setup outputs\n",
    "output_dir = '/Users/nataliebernat/Documents/Github/Research/Doyle_RLandCtrl/RL_outputs'\n",
    "fig_dir = output_dir+'/figures/'"
   ]
  },
  {
   "cell_type": "code",
   "execution_count": null,
   "metadata": {
    "scrolled": true
   },
   "outputs": [],
   "source": [
    "num_steps_per_epoch=5000\n",
    "num_epochs = 100 #(this will take like 5-10min per experiment, but seems like enough to see whether it learns or not)\n",
    "\n",
    "#env_kwargs = dict(a=0.1)\n",
    "alpha = 0.1\n",
    "env_fn = lambda : gym.make('cdsalpha-v0', a=alpha)\n",
    "\n",
    "exp_name = 'finitealpha'+str(alpha).replace('.','pt')+'_vpg_test'\n",
    "tf.reset_default_graph()\n",
    "logger_kwargs = dict(output_dir=output_dir+'/env_tests/'+exp_name+'/', exp_name=exp_name)\n",
    "vpg(env_fn=env_fn, steps_per_epoch=num_steps_per_epoch, epochs=num_epochs, logger_kwargs=logger_kwargs)\n",
    "\n",
    "\n",
    "exp_name = 'finitealpha'+str(alpha).replace('.','pt')+'_ppo_test'\n",
    "tf.reset_default_graph()\n",
    "logger_kwargs = dict(output_dir=output_dir+'/env_tests/'+exp_name+'/', exp_name=exp_name)\n",
    "ppo(env_fn=env_fn, steps_per_epoch=num_steps_per_epoch, epochs=num_epochs, logger_kwargs=logger_kwargs)"
   ]
  },
  {
   "cell_type": "markdown",
   "metadata": {},
   "source": [
    "Plot the learning curves (Sometimes this crashes the kernel, but the data is saved to disk so just try this again)"
   ]
  },
  {
   "cell_type": "code",
   "execution_count": null,
   "metadata": {
    "scrolled": true
   },
   "outputs": [],
   "source": [
    "#plot_data(data, xaxis='Epoch', value=\"AverageEpRet\", condition=\"Condition1\", smooth=1, **kwargs)\n",
    "data = plot.get_all_datasets([output_dir+'/env_tests/cdsalpha0pt0'], None, None, None)\n",
    "plt.figure()\n",
    "plot.plot_data(data)\n",
    "#plt.savefig(fig_dir+'/env_tests/cdsalpha0pt0')\n"
   ]
  },
  {
   "cell_type": "markdown",
   "metadata": {},
   "source": [
    "### Large batch of seeded expts"
   ]
  },
  {
   "cell_type": "code",
   "execution_count": null,
   "metadata": {},
   "outputs": [],
   "source": [
    "import numpy as np\n",
    "from spinup import ppo, vpg\n",
    "from spinup.utils import plot\n",
    "import tensorflow as tf\n",
    "import gym\n",
    "import gym_cdsalpha\n",
    "import matplotlib.pyplot as plt\n",
    "\n",
    "import matplotlib\n",
    "%matplotlib notebook\n",
    "\n",
    "# Setup outputs\n",
    "output_dir = '/Users/nataliebernat/Documents/Github/Research/Doyle_RLandCtrl/RL_outputs'\n",
    "fig_dir = output_dir+'/figures/'\n",
    "\n",
    "seed = 1\n"
   ]
  },
  {
   "cell_type": "code",
   "execution_count": null,
   "metadata": {
    "scrolled": true
   },
   "outputs": [],
   "source": [
    "num_steps_per_epoch=5000\n",
    "num_epochs = 100 #(this will take like 5-10min per experiment)\n",
    "\n",
    "for alpha in np.arange(0.0, 1.01, 0.1):#np.arange(0.1, 1.01, 0.1):\n",
    "    env_fn = lambda : gym.make('cdsalpha-v0', a=alpha, seed=seed)\n",
    "\n",
    "    exp_out_dir = '{0}/cdsalpha_tests/seed{1}/'.format(output_dir,seed)\n",
    "    \n",
    "    exp_name = 'cdsalpha{0:.1f}_vpg_test'.format(alpha).replace('.','pt')\n",
    "    tf.reset_default_graph()\n",
    "    logger_kwargs = dict(output_dir=exp_out_dir+exp_name+'/', exp_name=exp_name)\n",
    "    vpg(env_fn=env_fn, steps_per_epoch=num_steps_per_epoch, epochs=num_epochs, logger_kwargs=logger_kwargs)\n",
    "\n",
    "\n",
    "    exp_name = 'cdsalpha{0:.1f}_ppo_test'.format(alpha).replace('.','pt')\n",
    "    tf.reset_default_graph()\n",
    "    logger_kwargs = dict(output_dir=exp_out_dir+exp_name+'/', exp_name=exp_name)\n",
    "    ppo(env_fn=env_fn, steps_per_epoch=num_steps_per_epoch, epochs=num_epochs, logger_kwargs=logger_kwargs)"
   ]
  },
  {
   "cell_type": "code",
   "execution_count": null,
   "metadata": {},
   "outputs": [],
   "source": [
    "#plot_data(data, xaxis='Epoch', value=\"AverageEpRet\", condition=\"Condition1\", smooth=1, **kwargs)\n",
    "for alpha in np.arange(0.0, 1.01, 0.1):\n",
    "    exp_out_dir = '{0}/cdsalpha_tests/seed{1}/'.format(output_dir,seed)\n",
    "    exp_fig_dir = '{0}/cdsalpha_tests/seed{1}/'.format(fig_dir,seed)\n",
    "    test_name = 'cdsalpha{0:.1f}'.format(alpha).replace('.','pt')\n",
    "    data = plot.get_all_datasets([exp_out_dir+test_name], None, None, None)\n",
    "    plt.figure()\n",
    "    plt.title(test_name)\n",
    "    plot.plot_data(data)\n",
    "    plt.savefig(exp_fig_dir+test_name)"
   ]
  },
  {
   "cell_type": "code",
   "execution_count": null,
   "metadata": {},
   "outputs": [],
   "source": []
  },
  {
   "cell_type": "code",
   "execution_count": null,
   "metadata": {},
   "outputs": [],
   "source": [
    "import numpy as np\n",
    "mu=0\n",
    "sigma=0\n",
    "np.random.normal(mu, sigma, 2)"
   ]
  },
  {
   "cell_type": "code",
   "execution_count": null,
   "metadata": {},
   "outputs": [],
   "source": [
    "\n"
   ]
  },
  {
   "cell_type": "code",
   "execution_count": null,
   "metadata": {},
   "outputs": [],
   "source": []
  },
  {
   "cell_type": "code",
   "execution_count": null,
   "metadata": {},
   "outputs": [],
   "source": []
  },
  {
   "cell_type": "markdown",
   "metadata": {},
   "source": [
    "### Large batch of seeded expts w/ white noise"
   ]
  },
  {
   "cell_type": "code",
   "execution_count": 1,
   "metadata": {},
   "outputs": [],
   "source": [
    "import numpy as np\n",
    "from spinup import ppo, vpg\n",
    "from spinup.utils import plot\n",
    "import tensorflow as tf\n",
    "import gym\n",
    "import gym_cdsalpha\n",
    "import matplotlib.pyplot as plt\n",
    "\n",
    "import matplotlib\n",
    "%matplotlib notebook\n",
    "\n",
    "# Setup inputs\n",
    "seed = 1\n",
    "sigma = 0.1\n",
    "num_steps_per_epoch=5000\n",
    "num_epochs = 100 #(this will take like 5-10min per experiment, longer when it performs poorly)\n",
    "\n",
    "if seed==None:\n",
    "    seed_str = 'unseeded'\n",
    "else:\n",
    "    seed_str = 'seed{0}'.format(seed)\n",
    "\n",
    "if sigma==0:\n",
    "    noise_str = 'nonoise'\n",
    "else:\n",
    "    noise_str = 'whitenoise{0:.1f}'.format(sigma).replace('.','pt')\n",
    "\n",
    "# Setup outputs\n",
    "out_dir = '/Users/nataliebernat/Documents/Github/Research/Doyle_RLandCtrl/RL_outputs'\n",
    "fig_dir = out_dir+'/figures'\n",
    "exp_out_dir = '{0}/finhoriz_tests/{1}/{2}/'.format(out_dir,noise_str,seed_str).replace('.','pt')\n",
    "exp_fig_dir = '{0}/finhoriz_tests/{1}/{2}/'.format(fig_dir,noise_str,seed_str).replace('.','pt')\n",
    "\n",
    "import os\n",
    "if not os.path.exists(exp_fig_dir):\n",
    "    os.makedirs(exp_fig_dir)\n",
    "    \n"
   ]
  },
  {
   "cell_type": "code",
   "execution_count": null,
   "metadata": {
    "scrolled": true
   },
   "outputs": [
    {
     "name": "stdout",
     "output_type": "stream",
     "text": [
      "\u001b[32;1mLogging data to /Users/nataliebernat/Documents/Github/Research/Doyle_RLandCtrl/RL_outputs/finhoriz_tests/whitenoise0pt1/seed1/alpha0pt0_vpg_test/progress.txt\u001b[0m\n",
      "\u001b[36;1mSaving config:\n",
      "\u001b[0m\n",
      "{\n",
      "    \"ac_kwargs\":\t{},\n",
      "    \"actor_critic\":\t\"mlp_actor_critic\",\n",
      "    \"env_fn\":\t\"<function <lambda> at 0x1c3f376488>\",\n",
      "    \"epochs\":\t100,\n",
      "    \"exp_name\":\t\"alpha0pt0_vpg_test\",\n",
      "    \"gamma\":\t0.99,\n",
      "    \"lam\":\t0.97,\n",
      "    \"logger\":\t{\n",
      "        \"<spinup.utils.logx.EpochLogger object at 0x1c3f3726a0>\":\t{\n",
      "            \"epoch_dict\":\t{},\n",
      "            \"exp_name\":\t\"alpha0pt0_vpg_test\",\n",
      "            \"first_row\":\ttrue,\n",
      "            \"log_current_row\":\t{},\n",
      "            \"log_headers\":\t[],\n",
      "            \"output_dir\":\t\"/Users/nataliebernat/Documents/Github/Research/Doyle_RLandCtrl/RL_outputs/finhoriz_tests/whitenoise0pt1/seed1/alpha0pt0_vpg_test/\",\n",
      "            \"output_file\":\t{\n",
      "                \"<_io.TextIOWrapper name='/Users/nataliebernat/Documents/Github/Research/Doyle_RLandCtrl/RL_outputs/finhoriz_tests/whitenoise0pt1/seed1/alpha0pt0_vpg_test/progress.txt' mode='w' encoding='UTF-8'>\":\t{\n",
      "                    \"mode\":\t\"w\"\n",
      "                }\n",
      "            }\n",
      "        }\n",
      "    },\n",
      "    \"logger_kwargs\":\t{\n",
      "        \"exp_name\":\t\"alpha0pt0_vpg_test\",\n",
      "        \"output_dir\":\t\"/Users/nataliebernat/Documents/Github/Research/Doyle_RLandCtrl/RL_outputs/finhoriz_tests/whitenoise0pt1/seed1/alpha0pt0_vpg_test/\"\n",
      "    },\n",
      "    \"max_ep_len\":\t1000,\n",
      "    \"pi_lr\":\t0.0003,\n",
      "    \"save_freq\":\t10,\n",
      "    \"seed\":\t0,\n",
      "    \"steps_per_epoch\":\t5000,\n",
      "    \"train_v_iters\":\t80,\n",
      "    \"vf_lr\":\t0.001\n",
      "}\n",
      "WARNING:tensorflow:From /Users/nataliebernat/spinningup-master/spinup/algos/vpg/core.py:31: dense (from tensorflow.python.layers.core) is deprecated and will be removed in a future version.\n",
      "Instructions for updating:\n",
      "Use keras.layers.dense instead.\n",
      "WARNING:tensorflow:From /Users/nataliebernat/anaconda/envs/cdsrl/lib/python3.7/site-packages/tensorflow/python/framework/op_def_library.py:263: colocate_with (from tensorflow.python.framework.ops) is deprecated and will be removed in a future version.\n",
      "Instructions for updating:\n",
      "Colocations handled automatically by placer.\n",
      "\u001b[32;1m\n",
      "Number of parameters: \t pi: 4418, \t v: 4417\n",
      "\u001b[0m\n",
      "WARNING:tensorflow:From /Users/nataliebernat/anaconda/envs/cdsrl/lib/python3.7/site-packages/tensorflow/python/ops/math_ops.py:3066: to_int32 (from tensorflow.python.ops.math_ops) is deprecated and will be removed in a future version.\n",
      "Instructions for updating:\n",
      "Use tf.cast instead.\n",
      "WARNING:tensorflow:From /Users/nataliebernat/spinningup-master/spinup/utils/mpi_tf.py:63: py_func (from tensorflow.python.ops.script_ops) is deprecated and will be removed in a future version.\n",
      "Instructions for updating:\n",
      "tf.py_func is deprecated in TF V2. Instead, use\n",
      "    tf.py_function, which takes a python function which manipulates tf eager\n",
      "    tensors instead of numpy arrays. It's easy to convert a tf eager tensor to\n",
      "    an ndarray (just call tensor.numpy()) but having access to eager tensors\n",
      "    means `tf.py_function`s can use accelerators such as GPUs as well as\n",
      "    being differentiable using a gradient tape.\n",
      "    \n",
      "WARNING:tensorflow:From /Users/nataliebernat/spinningup-master/spinup/utils/logx.py:226: simple_save (from tensorflow.python.saved_model.simple_save) is deprecated and will be removed in a future version.\n",
      "Instructions for updating:\n",
      "This function will only be available through the v1 compatibility library as tf.compat.v1.saved_model.simple_save.\n",
      "WARNING:tensorflow:From /Users/nataliebernat/anaconda/envs/cdsrl/lib/python3.7/site-packages/tensorflow/python/saved_model/signature_def_utils_impl.py:205: build_tensor_info (from tensorflow.python.saved_model.utils_impl) is deprecated and will be removed in a future version.\n",
      "Instructions for updating:\n",
      "This function will only be available through the v1 compatibility library as tf.compat.v1.saved_model.utils.build_tensor_info or tf.compat.v1.saved_model.build_tensor_info.\n",
      "INFO:tensorflow:Assets added to graph.\n",
      "INFO:tensorflow:No assets to write.\n",
      "INFO:tensorflow:SavedModel written to: /Users/nataliebernat/Documents/Github/Research/Doyle_RLandCtrl/RL_outputs/finhoriz_tests/whitenoise0pt1/seed1/alpha0pt0_vpg_test/simple_save/saved_model.pb\n",
      "---------------------------------------\n",
      "|             Epoch |               0 |\n",
      "|      AverageEpRet |           -7.87 |\n",
      "|          StdEpRet |             7.9 |\n",
      "|          MaxEpRet |          -0.182 |\n",
      "|          MinEpRet |           -61.6 |\n",
      "|             EpLen |               5 |\n",
      "|      AverageVVals |         0.00188 |\n",
      "|          StdVVals |          0.0872 |\n",
      "|          MaxVVals |           0.347 |\n",
      "|          MinVVals |          -0.351 |\n",
      "| TotalEnvInteracts |           5e+03 |\n",
      "|            LossPi |           -0.21 |\n",
      "|             LossV |            91.7 |\n",
      "|       DeltaLossPi |         -0.0174 |\n",
      "|        DeltaLossV |           -40.7 |\n",
      "|           Entropy |           0.932 |\n",
      "|                KL |         0.00147 |\n",
      "|              Time |            8.62 |\n",
      "---------------------------------------\n",
      "---------------------------------------\n",
      "|             Epoch |               1 |\n",
      "|      AverageEpRet |           -6.89 |\n",
      "|          StdEpRet |             7.1 |\n",
      "|          MaxEpRet |          -0.106 |\n",
      "|          MinEpRet |           -83.8 |\n",
      "|             EpLen |               5 |\n",
      "|      AverageVVals |           -6.76 |\n",
      "|          StdVVals |            0.24 |\n",
      "|          MaxVVals |           -5.54 |\n",
      "|          MinVVals |           -7.53 |\n",
      "| TotalEnvInteracts |           1e+04 |\n",
      "|            LossPi |          -0.208 |\n",
      "|             LossV |            41.6 |\n",
      "|       DeltaLossPi |         -0.0157 |\n",
      "|        DeltaLossV |           -2.06 |\n",
      "|           Entropy |           0.913 |\n",
      "|                KL |        0.000519 |\n",
      "|              Time |            13.8 |\n",
      "---------------------------------------\n",
      "---------------------------------------\n",
      "|             Epoch |               2 |\n",
      "|      AverageEpRet |           -6.96 |\n",
      "|          StdEpRet |            7.74 |\n",
      "|          MaxEpRet |          -0.181 |\n",
      "|          MinEpRet |            -117 |\n",
      "|             EpLen |               5 |\n",
      "|      AverageVVals |           -5.52 |\n",
      "|          StdVVals |           0.275 |\n",
      "|          MaxVVals |           -3.01 |\n",
      "|          MinVVals |           -6.96 |\n",
      "| TotalEnvInteracts |         1.5e+04 |\n",
      "|            LossPi |          -0.226 |\n",
      "|             LossV |            47.7 |\n",
      "|       DeltaLossPi |          -0.018 |\n",
      "|        DeltaLossV |          -0.483 |\n",
      "|           Entropy |           0.912 |\n",
      "|                KL |         0.00273 |\n",
      "|              Time |              19 |\n",
      "---------------------------------------\n",
      "---------------------------------------\n",
      "|             Epoch |               3 |\n",
      "|      AverageEpRet |           -5.82 |\n",
      "|          StdEpRet |            5.37 |\n",
      "|          MaxEpRet |          -0.274 |\n",
      "|          MinEpRet |           -54.1 |\n",
      "|             EpLen |               5 |\n",
      "|      AverageVVals |           -5.61 |\n",
      "|          StdVVals |           0.196 |\n",
      "|          MaxVVals |           -4.73 |\n",
      "|          MinVVals |           -6.25 |\n",
      "| TotalEnvInteracts |           2e+04 |\n",
      "|            LossPi |          -0.221 |\n",
      "|             LossV |            23.6 |\n",
      "|       DeltaLossPi |         -0.0132 |\n",
      "|        DeltaLossV |           -1.25 |\n",
      "|           Entropy |           0.908 |\n",
      "|                KL |       -0.000423 |\n",
      "|              Time |            24.2 |\n",
      "---------------------------------------\n",
      "---------------------------------------\n",
      "|             Epoch |               4 |\n",
      "|      AverageEpRet |           -5.89 |\n",
      "|          StdEpRet |             5.2 |\n",
      "|          MaxEpRet |          -0.248 |\n",
      "|          MinEpRet |           -40.8 |\n",
      "|             EpLen |               5 |\n",
      "|      AverageVVals |           -4.57 |\n",
      "|          StdVVals |           0.181 |\n",
      "|          MaxVVals |           -3.84 |\n",
      "|          MinVVals |            -5.2 |\n",
      "| TotalEnvInteracts |         2.5e+04 |\n",
      "|            LossPi |          -0.243 |\n",
      "|             LossV |            21.9 |\n",
      "|       DeltaLossPi |         -0.0141 |\n",
      "|        DeltaLossV |         -0.0584 |\n",
      "|           Entropy |           0.929 |\n",
      "|                KL |        0.000448 |\n",
      "|              Time |            29.7 |\n",
      "---------------------------------------\n",
      "---------------------------------------\n",
      "|             Epoch |               5 |\n",
      "|      AverageEpRet |           -5.57 |\n",
      "|          StdEpRet |            4.68 |\n",
      "|          MaxEpRet |          -0.221 |\n",
      "|          MinEpRet |           -41.3 |\n",
      "|             EpLen |               5 |\n",
      "|      AverageVVals |           -4.62 |\n",
      "|          StdVVals |          0.0217 |\n",
      "|          MaxVVals |           -4.47 |\n",
      "|          MinVVals |           -4.68 |\n",
      "| TotalEnvInteracts |           3e+04 |\n",
      "|            LossPi |          -0.256 |\n",
      "|             LossV |            18.1 |\n",
      "|       DeltaLossPi |         -0.0124 |\n",
      "|        DeltaLossV |         -0.0948 |\n",
      "|           Entropy |           0.909 |\n",
      "|                KL |         0.00144 |\n",
      "|              Time |            34.7 |\n",
      "---------------------------------------\n"
     ]
    },
    {
     "name": "stdout",
     "output_type": "stream",
     "text": [
      "---------------------------------------\n",
      "|             Epoch |               6 |\n",
      "|      AverageEpRet |           -5.47 |\n",
      "|          StdEpRet |            4.61 |\n",
      "|          MaxEpRet |          -0.186 |\n",
      "|          MinEpRet |           -37.8 |\n",
      "|             EpLen |               5 |\n",
      "|      AverageVVals |           -4.37 |\n",
      "|          StdVVals |           0.174 |\n",
      "|          MaxVVals |           -3.67 |\n",
      "|          MinVVals |           -5.05 |\n",
      "| TotalEnvInteracts |         3.5e+04 |\n",
      "|            LossPi |          -0.263 |\n",
      "|             LossV |            17.7 |\n",
      "|       DeltaLossPi |         -0.0131 |\n",
      "|        DeltaLossV |          -0.144 |\n",
      "|           Entropy |           0.926 |\n",
      "|                KL |         0.00189 |\n",
      "|              Time |            40.8 |\n",
      "---------------------------------------\n"
     ]
    }
   ],
   "source": [
    "alphas = [0.0, 0.1, 0.2, 0.8, 1.0, 2.0, 4.0, 8.0, 16.0]\n",
    "for alpha in alphas:#np.arange(0.0, 1.01, 0.1):\n",
    "    env_fn = lambda : gym.make('cdsalpha-v1', a=alpha, sigma=sigma, seed=seed)\n",
    "\n",
    "    exp_name = 'alpha{0:.1f}_vpg_test'.format(alpha).replace('.','pt')\n",
    "    tf.reset_default_graph()\n",
    "    logger_kwargs = dict(output_dir=exp_out_dir+exp_name+'/', exp_name=exp_name)\n",
    "    vpg(env_fn=env_fn, steps_per_epoch=num_steps_per_epoch, epochs=num_epochs, logger_kwargs=logger_kwargs)\n",
    "\n",
    "    exp_name = 'alpha{0:.1f}_ppo_test'.format(alpha).replace('.','pt')\n",
    "    tf.reset_default_graph()\n",
    "    logger_kwargs = dict(output_dir=exp_out_dir+exp_name+'/', exp_name=exp_name)\n",
    "    ppo(env_fn=env_fn, steps_per_epoch=num_steps_per_epoch, epochs=num_epochs, logger_kwargs=logger_kwargs)"
   ]
  },
  {
   "cell_type": "code",
   "execution_count": null,
   "metadata": {},
   "outputs": [],
   "source": [
    "#plot_data(data, xaxis='Epoch', value=\"AverageEpRet\", condition=\"Condition1\", smooth=1, **kwargs)\n",
    "\n",
    "# Use the commented section below if you're just plotting:\n",
    "\n",
    "seed = 1\n",
    "sigma = 0.4\n",
    "num_steps_per_epoch=5000\n",
    "num_epochs = 100 #(this will take like 5-10min per experiment, longer when it performs poorly)\n",
    "\n",
    "if seed==None:\n",
    "    seed_str = 'unseeded'\n",
    "else:\n",
    "    seed_str = 'seed{0}'.format(seed)\n",
    "\n",
    "if sigma==0:\n",
    "    noise_str = 'nonoise'\n",
    "else:\n",
    "    noise_str = 'whitenoise{0:.1f}'.format(sigma).replace('.','pt')\n",
    "\n",
    "# Setup outputs\n",
    "out_dir = '/Users/nataliebernat/Documents/Github/Research/Doyle_RLandCtrl/RL_outputs'\n",
    "fig_dir = out_dir+'/figures'\n",
    "exp_out_dir = '{0}/finhoriz_tests/{1}/{2}/'.format(out_dir,noise_str,seed_str).replace('.','pt')\n",
    "exp_fig_dir = '{0}/finhoriz_tests/{1}/{2}/'.format(fig_dir,noise_str,seed_str).replace('.','pt')\n",
    "\n",
    "alphas = [0.4]#[0.0, 0.1, 0.2, 0.8, 1.0, 2.0, 4.0, 8.0, 16.0]\n",
    "for alpha in alphas:#np.arange(0.0, 1.01, 0.1):#\n",
    "    test_name = 'alpha{0:.1f}'.format(alpha).replace('.','pt')\n",
    "    data = plot.get_all_datasets([exp_out_dir+test_name], None, None, None)\n",
    "    plt.figure()\n",
    "    plt.title('{0},{1}'.format(test_name,noise_str))\n",
    "    plot.plot_data(data)\n",
    "    plt.ylim((-20, 0)) #bottom, top\n",
    "    plt.savefig(exp_fig_dir+test_name)"
   ]
  },
  {
   "cell_type": "code",
   "execution_count": null,
   "metadata": {},
   "outputs": [],
   "source": []
  },
  {
   "cell_type": "code",
   "execution_count": null,
   "metadata": {},
   "outputs": [],
   "source": []
  }
 ],
 "metadata": {
  "anaconda-cloud": {},
  "kernelspec": {
   "display_name": "Python (cdsrl)",
   "language": "python",
   "name": "cdsrl"
  },
  "language_info": {
   "codemirror_mode": {
    "name": "ipython",
    "version": 3
   },
   "file_extension": ".py",
   "mimetype": "text/x-python",
   "name": "python",
   "nbconvert_exporter": "python",
   "pygments_lexer": "ipython3",
   "version": "3.7.3"
  }
 },
 "nbformat": 4,
 "nbformat_minor": 2
}
